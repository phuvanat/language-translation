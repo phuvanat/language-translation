{
  "nbformat": 4,
  "nbformat_minor": 0,
  "metadata": {
    "anaconda-cloud": {},
    "kernelspec": {
      "name": "python3",
      "display_name": "Python 3"
    },
    "language_info": {
      "codemirror_mode": {
        "name": "ipython",
        "version": 3
      },
      "file_extension": ".py",
      "mimetype": "text/x-python",
      "name": "python",
      "nbconvert_exporter": "python",
      "pygments_lexer": "ipython3",
      "version": "3.5.3"
    },
    "colab": {
      "name": "dlnd_language_translation.ipynb",
      "version": "0.3.2",
      "provenance": [],
      "toc_visible": true,
      "include_colab_link": true
    },
    "accelerator": "GPU"
  },
  "cells": [
    {
      "cell_type": "markdown",
      "metadata": {
        "id": "view-in-github",
        "colab_type": "text"
      },
      "source": [
        "<a href=\"https://colab.research.google.com/github/phuvanat/language-translation/blob/master/dlnd_language_translation.ipynb\" target=\"_parent\"><img src=\"https://colab.research.google.com/assets/colab-badge.svg\" alt=\"Open In Colab\"/></a>"
      ]
    },
    {
      "cell_type": "markdown",
      "metadata": {
        "collapsed": true,
        "id": "zuX01BSpDAaL",
        "colab_type": "text"
      },
      "source": [
        "# Language Translation\n",
        "In this project, you’re going to take a peek into the realm of neural network machine translation.  You’ll be training a sequence to sequence model on a dataset of English and French sentences that can translate new sentences from English to French.\n",
        "## Get the Data\n",
        "Since translating the whole language of English to French will take lots of time to train, we have provided you with a small portion of the English corpus."
      ]
    },
    {
      "cell_type": "code",
      "metadata": {
        "id": "foR5gVBnDIqE",
        "colab_type": "code",
        "colab": {
          "base_uri": "https://localhost:8080/",
          "height": 170
        },
        "outputId": "1533ddf8-4dbe-4891-c930-1a1dcb5ec48d"
      },
      "source": [
        "!git clone -l -s git://github.com/phuvanat/language-translation.git cloned-repo\n",
        "%cd cloned-repo\n",
        "!ls"
      ],
      "execution_count": 2,
      "outputs": [
        {
          "output_type": "stream",
          "text": [
            "Cloning into 'cloned-repo'...\n",
            "warning: --local is ignored\n",
            "remote: Enumerating objects: 22, done.\u001b[K\n",
            "remote: Total 22 (delta 0), reused 0 (delta 0), pack-reused 22\u001b[K\n",
            "Receiving objects: 100% (22/22), 2.39 MiB | 3.43 MiB/s, done.\n",
            "Resolving deltas: 100% (3/3), done.\n",
            "/content/cloned-repo/cloned-repo\n",
            "checkpoints  dlnd_language_translation.html   helper.py\t\t    README.md\n",
            "data\t     dlnd_language_translation.ipynb  problem_unittests.py\n"
          ],
          "name": "stdout"
        }
      ]
    },
    {
      "cell_type": "code",
      "metadata": {
        "id": "ot6_6XVUDAaN",
        "colab_type": "code",
        "colab": {}
      },
      "source": [
        "\"\"\"\n",
        "DON'T MODIFY ANYTHING IN THIS CELL\n",
        "\"\"\"\n",
        "import helper\n",
        "import problem_unittests as tests\n",
        "\n",
        "source_path = 'data/small_vocab_en'\n",
        "target_path = 'data/small_vocab_fr'\n",
        "source_text = helper.load_data(source_path)\n",
        "target_text = helper.load_data(target_path)"
      ],
      "execution_count": 0,
      "outputs": []
    },
    {
      "cell_type": "markdown",
      "metadata": {
        "id": "IDUVC0exDAaP",
        "colab_type": "text"
      },
      "source": [
        "## Explore the Data\n",
        "Play around with view_sentence_range to view different parts of the data."
      ]
    },
    {
      "cell_type": "code",
      "metadata": {
        "id": "z9vKxmvFDAaQ",
        "colab_type": "code",
        "colab": {
          "base_uri": "https://localhost:8080/",
          "height": 493
        },
        "outputId": "6352f61a-b03b-469f-e037-b3553bdfc84f"
      },
      "source": [
        "view_sentence_range = (0, 10)\n",
        "\n",
        "\"\"\"\n",
        "DON'T MODIFY ANYTHING IN THIS CELL\n",
        "\"\"\"\n",
        "import numpy as np\n",
        "\n",
        "print('Dataset Stats')\n",
        "print('Roughly the number of unique words: {}'.format(len({word: None for word in source_text.split()})))\n",
        "\n",
        "sentences = source_text.split('\\n')\n",
        "word_counts = [len(sentence.split()) for sentence in sentences]\n",
        "print('Number of sentences: {}'.format(len(sentences)))\n",
        "print('Average number of words in a sentence: {}'.format(np.average(word_counts)))\n",
        "\n",
        "print()\n",
        "print('English sentences {} to {}:'.format(*view_sentence_range))\n",
        "print('\\n'.join(source_text.split('\\n')[view_sentence_range[0]:view_sentence_range[1]]))\n",
        "print()\n",
        "print('French sentences {} to {}:'.format(*view_sentence_range))\n",
        "print('\\n'.join(target_text.split('\\n')[view_sentence_range[0]:view_sentence_range[1]]))"
      ],
      "execution_count": 4,
      "outputs": [
        {
          "output_type": "stream",
          "text": [
            "Dataset Stats\n",
            "Roughly the number of unique words: 227\n",
            "Number of sentences: 137861\n",
            "Average number of words in a sentence: 13.225277634719028\n",
            "\n",
            "English sentences 0 to 10:\n",
            "new jersey is sometimes quiet during autumn , and it is snowy in april .\n",
            "the united states is usually chilly during july , and it is usually freezing in november .\n",
            "california is usually quiet during march , and it is usually hot in june .\n",
            "the united states is sometimes mild during june , and it is cold in september .\n",
            "your least liked fruit is the grape , but my least liked is the apple .\n",
            "his favorite fruit is the orange , but my favorite is the grape .\n",
            "paris is relaxing during december , but it is usually chilly in july .\n",
            "new jersey is busy during spring , and it is never hot in march .\n",
            "our least liked fruit is the lemon , but my least liked is the grape .\n",
            "the united states is sometimes busy during january , and it is sometimes warm in november .\n",
            "\n",
            "French sentences 0 to 10:\n",
            "new jersey est parfois calme pendant l' automne , et il est neigeux en avril .\n",
            "les états-unis est généralement froid en juillet , et il gèle habituellement en novembre .\n",
            "california est généralement calme en mars , et il est généralement chaud en juin .\n",
            "les états-unis est parfois légère en juin , et il fait froid en septembre .\n",
            "votre moins aimé fruit est le raisin , mais mon moins aimé est la pomme .\n",
            "son fruit préféré est l'orange , mais mon préféré est le raisin .\n",
            "paris est relaxant en décembre , mais il est généralement froid en juillet .\n",
            "new jersey est occupé au printemps , et il est jamais chaude en mars .\n",
            "notre fruit est moins aimé le citron , mais mon moins aimé est le raisin .\n",
            "les états-unis est parfois occupé en janvier , et il est parfois chaud en novembre .\n"
          ],
          "name": "stdout"
        }
      ]
    },
    {
      "cell_type": "markdown",
      "metadata": {
        "id": "Gj5FXhh_DAaT",
        "colab_type": "text"
      },
      "source": [
        "## Implement Preprocessing Function\n",
        "### Text to Word Ids\n",
        "As you did with other RNNs, you must turn the text into a number so the computer can understand it. In the function `text_to_ids()`, you'll turn `source_text` and `target_text` from words to ids.  However, you need to add the `<EOS>` word id at the end of `target_text`.  This will help the neural network predict when the sentence should end.\n",
        "\n",
        "You can get the `<EOS>` word id by doing:\n",
        "```python\n",
        "target_vocab_to_int['<EOS>']\n",
        "```\n",
        "You can get other word ids using `source_vocab_to_int` and `target_vocab_to_int`."
      ]
    },
    {
      "cell_type": "code",
      "metadata": {
        "id": "dlaBSI5BDAaT",
        "colab_type": "code",
        "colab": {
          "base_uri": "https://localhost:8080/",
          "height": 34
        },
        "outputId": "0eadf8e2-d7c6-4625-d7bb-688f59dbd408"
      },
      "source": [
        "def text_to_ids(source_text, target_text, source_vocab_to_int, target_vocab_to_int):\n",
        "    \"\"\"\n",
        "    Convert source and target text to proper word ids\n",
        "    :param source_text: String that contains all the source text.\n",
        "    :param target_text: String that contains all the target text.\n",
        "    :param source_vocab_to_int: Dictionary to go from the source words to an id\n",
        "    :param target_vocab_to_int: Dictionary to go from the target words to an id\n",
        "    :return: A tuple of lists (source_id_text, target_id_text)\n",
        "    \"\"\"\n",
        "    # TODO: Implement Function\n",
        "    source_id_text = [[source_vocab_to_int.get(word, source_vocab_to_int['<UNK>']) for word in line.split()] for line in source_text.split('\\n')]\n",
        "    target_id_text = [[target_vocab_to_int.get(word, target_vocab_to_int['<UNK>']) for word in line.split()] + [target_vocab_to_int['<EOS>']] for line in target_text.split('\\n')]\n",
        "    return source_id_text, target_id_text\n",
        "\n",
        "\"\"\"\n",
        "DON'T MODIFY ANYTHING IN THIS CELL THAT IS BELOW THIS LINE\n",
        "\"\"\"\n",
        "tests.test_text_to_ids(text_to_ids)"
      ],
      "execution_count": 5,
      "outputs": [
        {
          "output_type": "stream",
          "text": [
            "Tests Passed\n"
          ],
          "name": "stdout"
        }
      ]
    },
    {
      "cell_type": "markdown",
      "metadata": {
        "id": "7wxqRYAgDAaW",
        "colab_type": "text"
      },
      "source": [
        "### Preprocess all the data and save it\n",
        "Running the code cell below will preprocess all the data and save it to file."
      ]
    },
    {
      "cell_type": "code",
      "metadata": {
        "id": "XfioS_XsDAaW",
        "colab_type": "code",
        "colab": {}
      },
      "source": [
        "\"\"\"\n",
        "DON'T MODIFY ANYTHING IN THIS CELL\n",
        "\"\"\"\n",
        "helper.preprocess_and_save_data(source_path, target_path, text_to_ids)"
      ],
      "execution_count": 0,
      "outputs": []
    },
    {
      "cell_type": "markdown",
      "metadata": {
        "id": "rJwDMK1DDAaY",
        "colab_type": "text"
      },
      "source": [
        "# Check Point\n",
        "This is your first checkpoint. If you ever decide to come back to this notebook or have to restart the notebook, you can start from here. The preprocessed data has been saved to disk."
      ]
    },
    {
      "cell_type": "code",
      "metadata": {
        "id": "-19WEI-pDAaY",
        "colab_type": "code",
        "colab": {}
      },
      "source": [
        "\"\"\"\n",
        "DON'T MODIFY ANYTHING IN THIS CELL\n",
        "\"\"\"\n",
        "import numpy as np\n",
        "import helper\n",
        "import problem_unittests as tests\n",
        "\n",
        "(source_int_text, target_int_text), (source_vocab_to_int, target_vocab_to_int), _ = helper.load_preprocess()"
      ],
      "execution_count": 0,
      "outputs": []
    },
    {
      "cell_type": "markdown",
      "metadata": {
        "id": "WwOcPN_kDAaa",
        "colab_type": "text"
      },
      "source": [
        "### Check the Version of TensorFlow and Access to GPU\n",
        "This will check to make sure you have the correct version of TensorFlow and access to a GPU"
      ]
    },
    {
      "cell_type": "code",
      "metadata": {
        "id": "dMqem9pIDAab",
        "colab_type": "code",
        "colab": {
          "base_uri": "https://localhost:8080/",
          "height": 51
        },
        "outputId": "56010d7a-6200-4f47-e122-cba4f9d690af"
      },
      "source": [
        "\"\"\"\n",
        "DON'T MODIFY ANYTHING IN THIS CELL\n",
        "\"\"\"\n",
        "from distutils.version import LooseVersion\n",
        "import warnings\n",
        "import tensorflow as tf\n",
        "from tensorflow.python.layers.core import Dense\n",
        "\n",
        "# Check TensorFlow Version\n",
        "assert LooseVersion(tf.__version__) >= LooseVersion('1.1'), 'Please use TensorFlow version 1.1 or newer'\n",
        "print('TensorFlow Version: {}'.format(tf.__version__))\n",
        "\n",
        "# Check for a GPU\n",
        "if not tf.test.gpu_device_name():\n",
        "    warnings.warn('No GPU found. Please use a GPU to train your neural network.')\n",
        "else:\n",
        "    print('Default GPU Device: {}'.format(tf.test.gpu_device_name()))"
      ],
      "execution_count": 8,
      "outputs": [
        {
          "output_type": "stream",
          "text": [
            "TensorFlow Version: 1.14.0\n",
            "Default GPU Device: /device:GPU:0\n"
          ],
          "name": "stdout"
        }
      ]
    },
    {
      "cell_type": "markdown",
      "metadata": {
        "id": "OC16lpIxDAad",
        "colab_type": "text"
      },
      "source": [
        "## Build the Neural Network\n",
        "You'll build the components necessary to build a Sequence-to-Sequence model by implementing the following functions below:\n",
        "- `model_inputs`\n",
        "- `process_decoder_input`\n",
        "- `encoding_layer`\n",
        "- `decoding_layer_train`\n",
        "- `decoding_layer_infer`\n",
        "- `decoding_layer`\n",
        "- `seq2seq_model`\n",
        "\n",
        "### Input\n",
        "Implement the `model_inputs()` function to create TF Placeholders for the Neural Network. It should create the following placeholders:\n",
        "\n",
        "- Input text placeholder named \"input\" using the TF Placeholder name parameter with rank 2.\n",
        "- Targets placeholder with rank 2.\n",
        "- Learning rate placeholder with rank 0.\n",
        "- Keep probability placeholder named \"keep_prob\" using the TF Placeholder name parameter with rank 0.\n",
        "- Target sequence length placeholder named \"target_sequence_length\" with rank 1\n",
        "- Max target sequence length tensor named \"max_target_len\" getting its value from applying tf.reduce_max on the target_sequence_length placeholder. Rank 0.\n",
        "- Source sequence length placeholder named \"source_sequence_length\" with rank 1\n",
        "\n",
        "Return the placeholders in the following the tuple (input, targets, learning rate, keep probability, target sequence length, max target sequence length, source sequence length)"
      ]
    },
    {
      "cell_type": "code",
      "metadata": {
        "id": "LxH9an62DAad",
        "colab_type": "code",
        "colab": {
          "base_uri": "https://localhost:8080/",
          "height": 105
        },
        "outputId": "f3294d66-bba8-4729-e513-3b392f137128"
      },
      "source": [
        "def model_inputs():\n",
        "    \"\"\"\n",
        "    Create TF Placeholders for input, targets, learning rate, and lengths of source and target sequences.\n",
        "    :return: Tuple (input, targets, learning rate, keep probability, target sequence length,\n",
        "    max target sequence length, source sequence length)\n",
        "    \"\"\"\n",
        "    # TODO: Implement Function\n",
        "    input = tf.placeholder(tf.int32, shape = [None, None], name='input')\n",
        "    targets = tf.placeholder(tf.int32, shape = [None, None], name='targets')\n",
        "    learning_rate = tf.placeholder(tf.float32,shape = (), name='learning_rate')\n",
        "    keep_probability = tf.placeholder(tf.float32,shape = (), name='keep_prob')\n",
        "    target_sequence_length = tf.placeholder(tf.int32, shape =[None], name='target_sequence_length')\n",
        "    max_target_sequence_length = tf.reduce_max(target_sequence_length, name='max_target_len')\n",
        "    source_sequence_length = tf.placeholder(tf.int32,shape = [None], name='source_sequence_length')\n",
        "    return input, targets, learning_rate, keep_probability, target_sequence_length,max_target_sequence_length, source_sequence_length\n",
        "\n",
        "\n",
        "\"\"\"\n",
        "DON'T MODIFY ANYTHING IN THIS CELL THAT IS BELOW THIS LINE\n",
        "\"\"\"\n",
        "tests.test_model_inputs(model_inputs)"
      ],
      "execution_count": 9,
      "outputs": [
        {
          "output_type": "stream",
          "text": [
            "WARNING: Logging before flag parsing goes to stderr.\n",
            "W0729 09:26:41.886975 140409289840512 deprecation_wrapper.py:119] From /content/cloned-repo/cloned-repo/problem_unittests.py:104: The name tf.assert_rank is deprecated. Please use tf.compat.v1.assert_rank instead.\n",
            "\n"
          ],
          "name": "stderr"
        },
        {
          "output_type": "stream",
          "text": [
            "Tests Passed\n"
          ],
          "name": "stdout"
        }
      ]
    },
    {
      "cell_type": "markdown",
      "metadata": {
        "id": "0x75iNT-DAag",
        "colab_type": "text"
      },
      "source": [
        "### Process Decoder Input\n",
        "Implement `process_decoder_input` by removing the last word id from each batch in `target_data` and concat the GO ID to the begining of each batch."
      ]
    },
    {
      "cell_type": "code",
      "metadata": {
        "id": "WWWjAjSXDAag",
        "colab_type": "code",
        "colab": {
          "base_uri": "https://localhost:8080/",
          "height": 122
        },
        "outputId": "59d6edca-5735-41d5-e136-63a3ca1214e3"
      },
      "source": [
        "def process_decoder_input(target_data, target_vocab_to_int, batch_size):\n",
        "    \"\"\"\n",
        "    Preprocess target data for encoding\n",
        "    :param target_data: Target Placehoder\n",
        "    :param target_vocab_to_int: Dictionary to go from the target words to an id\n",
        "    :param batch_size: Batch Size\n",
        "    :return: Preprocessed target data\n",
        "    \"\"\"\n",
        "    # TODO: Implement Function\n",
        "    ending = tf.strided_slice(target_data, [0, 0], [batch_size, -1], [1, 1])\n",
        "    dec_input = tf.concat([tf.fill([batch_size, 1], target_vocab_to_int['<GO>']), ending], 1)\n",
        "    return dec_input\n",
        "\n",
        "\"\"\"\n",
        "DON'T MODIFY ANYTHING IN THIS CELL THAT IS BELOW THIS LINE\n",
        "\"\"\"\n",
        "tests.test_process_encoding_input(process_decoder_input)"
      ],
      "execution_count": 10,
      "outputs": [
        {
          "output_type": "stream",
          "text": [
            "W0729 09:26:41.927548 140409289840512 deprecation_wrapper.py:119] From /content/cloned-repo/cloned-repo/problem_unittests.py:286: The name tf.placeholder is deprecated. Please use tf.compat.v1.placeholder instead.\n",
            "\n",
            "W0729 09:26:41.944334 140409289840512 deprecation_wrapper.py:119] From /content/cloned-repo/cloned-repo/problem_unittests.py:293: The name tf.Session is deprecated. Please use tf.compat.v1.Session instead.\n",
            "\n"
          ],
          "name": "stderr"
        },
        {
          "output_type": "stream",
          "text": [
            "Tests Passed\n"
          ],
          "name": "stdout"
        }
      ]
    },
    {
      "cell_type": "markdown",
      "metadata": {
        "id": "0zw7U4mjDAai",
        "colab_type": "text"
      },
      "source": [
        "### Encoding\n",
        "Implement `encoding_layer()` to create a Encoder RNN layer:\n",
        " * Embed the encoder input using [`tf.contrib.layers.embed_sequence`](https://www.tensorflow.org/api_docs/python/tf/contrib/layers/embed_sequence)\n",
        " * Construct a [stacked](https://github.com/tensorflow/tensorflow/blob/6947f65a374ebf29e74bb71e36fd82760056d82c/tensorflow/docs_src/tutorials/recurrent.md#stacking-multiple-lstms) [`tf.contrib.rnn.LSTMCell`](https://www.tensorflow.org/api_docs/python/tf/contrib/rnn/LSTMCell) wrapped in a [`tf.contrib.rnn.DropoutWrapper`](https://www.tensorflow.org/api_docs/python/tf/contrib/rnn/DropoutWrapper)\n",
        " * Pass cell and embedded input to [`tf.nn.dynamic_rnn()`](https://www.tensorflow.org/api_docs/python/tf/nn/dynamic_rnn)"
      ]
    },
    {
      "cell_type": "code",
      "metadata": {
        "scrolled": false,
        "id": "KQrS51_yDAaj",
        "colab_type": "code",
        "colab": {
          "base_uri": "https://localhost:8080/",
          "height": 496
        },
        "outputId": "ee4bead2-a50c-40e0-a9ef-d7c99f9a20d0"
      },
      "source": [
        "from imp import reload\n",
        "reload(tests)\n",
        "\n",
        "def encoding_layer(rnn_inputs, rnn_size, num_layers, keep_prob, \n",
        "                   source_sequence_length, source_vocab_size, \n",
        "                   encoding_embedding_size):\n",
        "    \"\"\"\n",
        "    Create encoding layer\n",
        "    :param rnn_inputs: Inputs for the RNN\n",
        "    :param rnn_size: RNN Size\n",
        "    :param num_layers: Number of layers\n",
        "    :param keep_prob: Dropout keep probability\n",
        "    :param source_sequence_length: a list of the lengths of each sequence in the batch\n",
        "    :param source_vocab_size: vocabulary size of source data\n",
        "    :param encoding_embedding_size: embedding size of source data\n",
        "    :return: tuple (RNN output, RNN state)\n",
        "    \"\"\"\n",
        "    # TODO: Implement Function\n",
        "    enc_embed_input = tf.contrib.layers.embed_sequence(rnn_inputs, source_vocab_size, encoding_embedding_size)\n",
        "\n",
        "    def make_cell(rnn_size):\n",
        "        enc_cell = tf.contrib.rnn.LSTMCell(rnn_size, initializer=tf.random_uniform_initializer(-0.1, 0.1, seed=2))\n",
        "        return enc_cell\n",
        "\n",
        "    enc_cell = tf.contrib.rnn.MultiRNNCell([make_cell(rnn_size) for _ in range(num_layers)])\n",
        "    enc_dropout_cell = tf.contrib.rnn.DropoutWrapper(enc_cell, keep_prob)\n",
        "    \n",
        "    rnn_output, rnn_state = tf.nn.dynamic_rnn(enc_dropout_cell, enc_embed_input, sequence_length=source_sequence_length, dtype=tf.float32)\n",
        "    \n",
        "    return rnn_output, rnn_state\n",
        "\n",
        "\"\"\"\n",
        "DON'T MODIFY ANYTHING IN THIS CELL THAT IS BELOW THIS LINE\n",
        "\"\"\"\n",
        "tests.test_encoding_layer(encoding_layer)"
      ],
      "execution_count": 11,
      "outputs": [
        {
          "output_type": "stream",
          "text": [
            "W0729 09:26:44.355833 140409289840512 lazy_loader.py:50] \n",
            "The TensorFlow contrib module will not be included in TensorFlow 2.0.\n",
            "For more information, please see:\n",
            "  * https://github.com/tensorflow/community/blob/master/rfcs/20180907-contrib-sunset.md\n",
            "  * https://github.com/tensorflow/addons\n",
            "  * https://github.com/tensorflow/io (for I/O related ops)\n",
            "If you depend on functionality not listed there, please file an issue.\n",
            "\n",
            "W0729 09:26:44.358563 140409289840512 deprecation.py:506] From /usr/local/lib/python3.6/dist-packages/tensorflow/python/ops/init_ops.py:1251: calling VarianceScaling.__init__ (from tensorflow.python.ops.init_ops) with dtype is deprecated and will be removed in a future version.\n",
            "Instructions for updating:\n",
            "Call initializer instance with the dtype argument instead of passing it to the constructor\n",
            "W0729 09:26:44.382586 140409289840512 deprecation.py:323] From <ipython-input-11-4405067a975e>:22: LSTMCell.__init__ (from tensorflow.python.ops.rnn_cell_impl) is deprecated and will be removed in a future version.\n",
            "Instructions for updating:\n",
            "This class is equivalent as tf.keras.layers.LSTMCell, and will be replaced by that in Tensorflow 2.0.\n",
            "W0729 09:26:44.385940 140409289840512 deprecation.py:323] From <ipython-input-11-4405067a975e>:25: MultiRNNCell.__init__ (from tensorflow.python.ops.rnn_cell_impl) is deprecated and will be removed in a future version.\n",
            "Instructions for updating:\n",
            "This class is equivalent as tf.keras.layers.StackedRNNCells, and will be replaced by that in Tensorflow 2.0.\n",
            "W0729 09:26:44.395645 140409289840512 deprecation.py:323] From <ipython-input-11-4405067a975e>:28: dynamic_rnn (from tensorflow.python.ops.rnn) is deprecated and will be removed in a future version.\n",
            "Instructions for updating:\n",
            "Please use `keras.layers.RNN(cell)`, which is equivalent to this API\n",
            "W0729 09:26:44.845579 140409289840512 deprecation.py:506] From /usr/local/lib/python3.6/dist-packages/tensorflow/python/ops/rnn_cell_impl.py:961: calling Zeros.__init__ (from tensorflow.python.ops.init_ops) with dtype is deprecated and will be removed in a future version.\n",
            "Instructions for updating:\n",
            "Call initializer instance with the dtype argument instead of passing it to the constructor\n",
            "W0729 09:26:45.786223 140409289840512 deprecation.py:323] From /usr/local/lib/python3.6/dist-packages/tensorflow/python/ops/rnn.py:244: add_dispatch_support.<locals>.wrapper (from tensorflow.python.ops.array_ops) is deprecated and will be removed in a future version.\n",
            "Instructions for updating:\n",
            "Use tf.where in 2.0, which has the same broadcast rule as np.where\n"
          ],
          "name": "stderr"
        },
        {
          "output_type": "stream",
          "text": [
            "Tests Passed\n"
          ],
          "name": "stdout"
        }
      ]
    },
    {
      "cell_type": "markdown",
      "metadata": {
        "id": "0IL1seKyDAal",
        "colab_type": "text"
      },
      "source": [
        "### Decoding - Training\n",
        "Create a training decoding layer:\n",
        "* Create a [`tf.contrib.seq2seq.TrainingHelper`](https://www.tensorflow.org/api_docs/python/tf/contrib/seq2seq/TrainingHelper) \n",
        "* Create a [`tf.contrib.seq2seq.BasicDecoder`](https://www.tensorflow.org/api_docs/python/tf/contrib/seq2seq/BasicDecoder)\n",
        "* Obtain the decoder outputs from [`tf.contrib.seq2seq.dynamic_decode`](https://www.tensorflow.org/api_docs/python/tf/contrib/seq2seq/dynamic_decode)"
      ]
    },
    {
      "cell_type": "code",
      "metadata": {
        "id": "lB7QS3MkDAal",
        "colab_type": "code",
        "colab": {
          "base_uri": "https://localhost:8080/",
          "height": 88
        },
        "outputId": "f41439c2-c28a-402c-d264-8cca7de50212"
      },
      "source": [
        "\n",
        "def decoding_layer_train(encoder_state, dec_cell, dec_embed_input, \n",
        "                         target_sequence_length, max_summary_length, \n",
        "                         output_layer, keep_prob):\n",
        "    \"\"\"\n",
        "    Create a decoding layer for training\n",
        "    :param encoder_state: Encoder State\n",
        "    :param dec_cell: Decoder RNN Cell\n",
        "    :param dec_embed_input: Decoder embedded input\n",
        "    :param target_sequence_length: The lengths of each sequence in the target batch\n",
        "    :param max_summary_length: The length of the longest sequence in the batch\n",
        "    :param output_layer: Function to apply the output layer\n",
        "    :param keep_prob: Dropout keep probability\n",
        "    :return: BasicDecoderOutput containing training logits and sample_id\n",
        "    \"\"\"\n",
        "    # TODO: Implement Function\n",
        "    training_helper = tf.contrib.seq2seq.TrainingHelper(inputs=dec_embed_input, sequence_length=target_sequence_length, time_major=False)\n",
        "\n",
        "    training_decoder = tf.contrib.seq2seq.BasicDecoder(dec_cell, training_helper, encoder_state, output_layer) \n",
        "\n",
        "    training_decoder_output = tf.contrib.seq2seq.dynamic_decode(training_decoder, impute_finished=True, maximum_iterations=max_summary_length)[0]\n",
        "    return training_decoder_output\n",
        "\n",
        "\n",
        "\n",
        "\"\"\"\n",
        "DON'T MODIFY ANYTHING IN THIS CELL THAT IS BELOW THIS LINE\n",
        "\"\"\"\n",
        "tests.test_decoding_layer_train(decoding_layer_train)"
      ],
      "execution_count": 12,
      "outputs": [
        {
          "output_type": "stream",
          "text": [
            "W0729 09:26:45.855002 140409289840512 deprecation_wrapper.py:119] From /content/cloned-repo/cloned-repo/problem_unittests.py:312: The name tf.variable_scope is deprecated. Please use tf.compat.v1.variable_scope instead.\n",
            "\n"
          ],
          "name": "stderr"
        },
        {
          "output_type": "stream",
          "text": [
            "Tests Passed\n"
          ],
          "name": "stdout"
        }
      ]
    },
    {
      "cell_type": "markdown",
      "metadata": {
        "id": "RREpPABoDAao",
        "colab_type": "text"
      },
      "source": [
        "### Decoding - Inference\n",
        "Create inference decoder:\n",
        "* Create a [`tf.contrib.seq2seq.GreedyEmbeddingHelper`](https://www.tensorflow.org/api_docs/python/tf/contrib/seq2seq/GreedyEmbeddingHelper)\n",
        "* Create a [`tf.contrib.seq2seq.BasicDecoder`](https://www.tensorflow.org/api_docs/python/tf/contrib/seq2seq/BasicDecoder)\n",
        "* Obtain the decoder outputs from [`tf.contrib.seq2seq.dynamic_decode`](https://www.tensorflow.org/api_docs/python/tf/contrib/seq2seq/dynamic_decode)"
      ]
    },
    {
      "cell_type": "code",
      "metadata": {
        "scrolled": true,
        "id": "IzI6jkLGDAao",
        "colab_type": "code",
        "colab": {
          "base_uri": "https://localhost:8080/",
          "height": 88
        },
        "outputId": "7eac45ff-162c-4ffe-c9ab-b81d7ac57df1"
      },
      "source": [
        "def decoding_layer_infer(encoder_state, dec_cell, dec_embeddings, start_of_sequence_id,\n",
        "                         end_of_sequence_id, max_target_sequence_length,\n",
        "                         vocab_size, output_layer, batch_size, keep_prob):\n",
        "    \"\"\"\n",
        "    Create a decoding layer for inference\n",
        "    :param encoder_state: Encoder state\n",
        "    :param dec_cell: Decoder RNN Cell\n",
        "    :param dec_embeddings: Decoder embeddings\n",
        "    :param start_of_sequence_id: GO ID\n",
        "    :param end_of_sequence_id: EOS Id\n",
        "    :param max_target_sequence_length: Maximum length of target sequences\n",
        "    :param vocab_size: Size of decoder/target vocabulary\n",
        "    :param decoding_scope: TenorFlow Variable Scope for decoding\n",
        "    :param output_layer: Function to apply the output layer\n",
        "    :param batch_size: Batch size\n",
        "    :param keep_prob: Dropout keep probability\n",
        "    :return: BasicDecoderOutput containing inference logits and sample_id\n",
        "    \"\"\"\n",
        "    # TODO: Implement Function\n",
        "    start_tokens = tf.tile(tf.constant([start_of_sequence_id], dtype=tf.int32), [batch_size], name='start_tokens')\n",
        "\n",
        "    inference_helper = tf.contrib.seq2seq.GreedyEmbeddingHelper(dec_embeddings,\n",
        "                                                                start_tokens,\n",
        "                                                                end_of_sequence_id)\n",
        "\n",
        "    inference_decoder = tf.contrib.seq2seq.BasicDecoder(dec_cell, inference_helper, encoder_state, output_layer)\n",
        "\n",
        "    inference_decoder_output = tf.contrib.seq2seq.dynamic_decode(inference_decoder, impute_finished=True, maximum_iterations=max_target_sequence_length)[0]\n",
        "    \n",
        "    return inference_decoder_output\n",
        "\n",
        "\n",
        "\n",
        "\"\"\"\n",
        "DON'T MODIFY ANYTHING IN THIS CELL THAT IS BELOW THIS LINE\n",
        "\"\"\"\n",
        "tests.test_decoding_layer_infer(decoding_layer_infer)"
      ],
      "execution_count": 13,
      "outputs": [
        {
          "output_type": "stream",
          "text": [
            "W0729 09:26:46.445650 140409289840512 deprecation_wrapper.py:119] From /content/cloned-repo/cloned-repo/problem_unittests.py:368: The name tf.random_uniform is deprecated. Please use tf.random.uniform instead.\n",
            "\n"
          ],
          "name": "stderr"
        },
        {
          "output_type": "stream",
          "text": [
            "Tests Passed\n"
          ],
          "name": "stdout"
        }
      ]
    },
    {
      "cell_type": "markdown",
      "metadata": {
        "id": "ayU6GZyKDAar",
        "colab_type": "text"
      },
      "source": [
        "### Build the Decoding Layer\n",
        "Implement `decoding_layer()` to create a Decoder RNN layer.\n",
        "\n",
        "* Embed the target sequences\n",
        "* Construct the decoder LSTM cell (just like you constructed the encoder cell above)\n",
        "* Create an output layer to map the outputs of the decoder to the elements of our vocabulary\n",
        "* Use the your `decoding_layer_train(encoder_state, dec_cell, dec_embed_input, target_sequence_length, max_target_sequence_length, output_layer, keep_prob)` function to get the training logits.\n",
        "* Use your `decoding_layer_infer(encoder_state, dec_cell, dec_embeddings, start_of_sequence_id, end_of_sequence_id, max_target_sequence_length, vocab_size, output_layer, batch_size, keep_prob)` function to get the inference logits.\n",
        "\n",
        "Note: You'll need to use [tf.variable_scope](https://www.tensorflow.org/api_docs/python/tf/variable_scope) to share variables between training and inference."
      ]
    },
    {
      "cell_type": "code",
      "metadata": {
        "id": "hpDDUA4sDAar",
        "colab_type": "code",
        "colab": {
          "base_uri": "https://localhost:8080/",
          "height": 34
        },
        "outputId": "76a41769-67ba-4c16-f9ce-fbdbde76ba48"
      },
      "source": [
        "def decoding_layer(dec_input, encoder_state,\n",
        "                   target_sequence_length, max_target_sequence_length,\n",
        "                   rnn_size,\n",
        "                   num_layers, target_vocab_to_int, target_vocab_size,\n",
        "                   batch_size, keep_prob, decoding_embedding_size):\n",
        "    \"\"\"\n",
        "    Create decoding layer\n",
        "    :param dec_input: Decoder input\n",
        "    :param encoder_state: Encoder state\n",
        "    :param target_sequence_length: The lengths of each sequence in the target batch\n",
        "    :param max_target_sequence_length: Maximum length of target sequences\n",
        "    :param rnn_size: RNN Size\n",
        "    :param num_layers: Number of layers\n",
        "    :param target_vocab_to_int: Dictionary to go from the target words to an id\n",
        "    :param target_vocab_size: Size of target vocabulary\n",
        "    :param batch_size: The size of the batch\n",
        "    :param keep_prob: Dropout keep probability\n",
        "    :param decoding_embedding_size: Decoding embedding size\n",
        "    :return: Tuple of (Training BasicDecoderOutput, Inference BasicDecoderOutput)\n",
        "    \"\"\"\n",
        "    # TODO: Implement Function\n",
        "    dec_embeddings = tf.Variable(tf.random_uniform([target_vocab_size, decoding_embedding_size]))\n",
        "    dec_embed_input = tf.nn.embedding_lookup(dec_embeddings, dec_input)\n",
        "    \n",
        "    def make_cell(rnn_size):\n",
        "        dec_cell = tf.contrib.rnn.LSTMCell(rnn_size, initializer=tf.random_uniform_initializer(-0.1, 0.1, seed=2))\n",
        "        return dec_cell\n",
        "\n",
        "    dec_cell = tf.contrib.rnn.MultiRNNCell([make_cell(rnn_size) for _ in range(num_layers)])\n",
        "    \n",
        "    output_layer = Dense(target_vocab_size, kernel_initializer = tf.truncated_normal_initializer(mean = 0.0, stddev=0.1))\n",
        "    \n",
        "    with tf.variable_scope(\"decode\"):\n",
        "        training_decoder_output = decoding_layer_train(encoder_state, dec_cell, dec_embed_input, target_sequence_length, max_target_sequence_length, output_layer, keep_prob)\n",
        "    \n",
        "    with tf.variable_scope(\"decode\", reuse=True):\n",
        "        inference_decoder_output = decoding_layer_infer(encoder_state, dec_cell, dec_embeddings, target_vocab_to_int['<GO>'], target_vocab_to_int['<EOS>'], max_target_sequence_length, target_vocab_size, output_layer, batch_size, keep_prob)\n",
        "    return training_decoder_output, inference_decoder_output\n",
        "\n",
        "\n",
        "\n",
        "\"\"\"\n",
        "DON'T MODIFY ANYTHING IN THIS CELL THAT IS BELOW THIS LINE\n",
        "\"\"\"\n",
        "tests.test_decoding_layer(decoding_layer)"
      ],
      "execution_count": 14,
      "outputs": [
        {
          "output_type": "stream",
          "text": [
            "Tests Passed\n"
          ],
          "name": "stdout"
        }
      ]
    },
    {
      "cell_type": "markdown",
      "metadata": {
        "id": "0NRjv2dPDAau",
        "colab_type": "text"
      },
      "source": [
        "### Build the Neural Network\n",
        "Apply the functions you implemented above to:\n",
        "\n",
        "- Encode the input using your `encoding_layer(rnn_inputs, rnn_size, num_layers, keep_prob,  source_sequence_length, source_vocab_size, encoding_embedding_size)`.\n",
        "- Process target data using your `process_decoder_input(target_data, target_vocab_to_int, batch_size)` function.\n",
        "- Decode the encoded input using your `decoding_layer(dec_input, enc_state, target_sequence_length, max_target_sentence_length, rnn_size, num_layers, target_vocab_to_int, target_vocab_size, batch_size, keep_prob, dec_embedding_size)` function."
      ]
    },
    {
      "cell_type": "code",
      "metadata": {
        "id": "JG6sY1NzDAav",
        "colab_type": "code",
        "colab": {
          "base_uri": "https://localhost:8080/",
          "height": 34
        },
        "outputId": "49221371-613a-44a4-bccb-ca6a68fa8261"
      },
      "source": [
        "def seq2seq_model(input_data, target_data, keep_prob, batch_size,\n",
        "                  source_sequence_length, target_sequence_length,\n",
        "                  max_target_sentence_length,\n",
        "                  source_vocab_size, target_vocab_size,\n",
        "                  enc_embedding_size, dec_embedding_size,\n",
        "                  rnn_size, num_layers, target_vocab_to_int):\n",
        "    \"\"\"\n",
        "    Build the Sequence-to-Sequence part of the neural network\n",
        "    :param input_data: Input placeholder\n",
        "    :param target_data: Target placeholder\n",
        "    :param keep_prob: Dropout keep probability placeholder\n",
        "    :param batch_size: Batch Size\n",
        "    :param source_sequence_length: Sequence Lengths of source sequences in the batch\n",
        "    :param target_sequence_length: Sequence Lengths of target sequences in the batch\n",
        "    :param source_vocab_size: Source vocabulary size\n",
        "    :param target_vocab_size: Target vocabulary size\n",
        "    :param enc_embedding_size: Decoder embedding size\n",
        "    :param dec_embedding_size: Encoder embedding size\n",
        "    :param rnn_size: RNN Size\n",
        "    :param num_layers: Number of layers\n",
        "    :param target_vocab_to_int: Dictionary to go from the target words to an id\n",
        "    :return: Tuple of (Training BasicDecoderOutput, Inference BasicDecoderOutput)\n",
        "    \"\"\"\n",
        "    # TODO: Implement Function\n",
        "    _, enc_state = encoding_layer(input_data, rnn_size, num_layers, keep_prob,  source_sequence_length, source_vocab_size, enc_embedding_size)\n",
        "    \n",
        "    dec_input = process_decoder_input(target_data, target_vocab_to_int, batch_size)\n",
        "    \n",
        "    training_decoder_output, inference_decoder_output = decoding_layer(dec_input, enc_state, target_sequence_length, max_target_sentence_length, rnn_size, num_layers, target_vocab_to_int, target_vocab_size, batch_size, keep_prob, dec_embedding_size) \n",
        "    \n",
        "    return training_decoder_output, inference_decoder_output\n",
        "\n",
        "\n",
        "\"\"\"\n",
        "DON'T MODIFY ANYTHING IN THIS CELL THAT IS BELOW THIS LINE\n",
        "\"\"\"\n",
        "tests.test_seq2seq_model(seq2seq_model)"
      ],
      "execution_count": 15,
      "outputs": [
        {
          "output_type": "stream",
          "text": [
            "Tests Passed\n"
          ],
          "name": "stdout"
        }
      ]
    },
    {
      "cell_type": "markdown",
      "metadata": {
        "id": "-_FfgXJcDAax",
        "colab_type": "text"
      },
      "source": [
        "## Neural Network Training\n",
        "### Hyperparameters\n",
        "Tune the following parameters:\n",
        "\n",
        "- Set `epochs` to the number of epochs.\n",
        "- Set `batch_size` to the batch size.\n",
        "- Set `rnn_size` to the size of the RNNs.\n",
        "- Set `num_layers` to the number of layers.\n",
        "- Set `encoding_embedding_size` to the size of the embedding for the encoder.\n",
        "- Set `decoding_embedding_size` to the size of the embedding for the decoder.\n",
        "- Set `learning_rate` to the learning rate.\n",
        "- Set `keep_probability` to the Dropout keep probability\n",
        "- Set `display_step` to state how many steps between each debug output statement"
      ]
    },
    {
      "cell_type": "code",
      "metadata": {
        "id": "6S0qXYjNDAay",
        "colab_type": "code",
        "colab": {}
      },
      "source": [
        "# Number of Epochs\n",
        "epochs = 10\n",
        "# Batch Size\n",
        "batch_size = 128\n",
        "# RNN Size\n",
        "rnn_size = 256\n",
        "# Number of Layers\n",
        "num_layers = 2\n",
        "# Embedding Size\n",
        "encoding_embedding_size = 256\n",
        "decoding_embedding_size = 256\n",
        "# Learning Rate\n",
        "learning_rate = 0.001\n",
        "# Dropout Keep Probability\n",
        "keep_probability = 0.5\n",
        "display_step = 100"
      ],
      "execution_count": 0,
      "outputs": []
    },
    {
      "cell_type": "markdown",
      "metadata": {
        "id": "tq5BNfE2DAa1",
        "colab_type": "text"
      },
      "source": [
        "### Build the Graph\n",
        "Build the graph using the neural network you implemented."
      ]
    },
    {
      "cell_type": "code",
      "metadata": {
        "id": "ogH-jdl5DAa2",
        "colab_type": "code",
        "colab": {}
      },
      "source": [
        "\"\"\"\n",
        "DON'T MODIFY ANYTHING IN THIS CELL\n",
        "\"\"\"\n",
        "save_path = 'checkpoints/dev'\n",
        "(source_int_text, target_int_text), (source_vocab_to_int, target_vocab_to_int), _ = helper.load_preprocess()\n",
        "max_target_sentence_length = max([len(sentence) for sentence in source_int_text])\n",
        "\n",
        "train_graph = tf.Graph()\n",
        "with train_graph.as_default():\n",
        "    input_data, targets, lr, keep_prob, target_sequence_length, max_target_sequence_length, source_sequence_length = model_inputs()\n",
        "\n",
        "    #sequence_length = tf.placeholder_with_default(max_target_sentence_length, None, name='sequence_length')\n",
        "    input_shape = tf.shape(input_data)\n",
        "\n",
        "    train_logits, inference_logits = seq2seq_model(tf.reverse(input_data, [-1]),\n",
        "                                                   targets,\n",
        "                                                   keep_prob,\n",
        "                                                   batch_size,\n",
        "                                                   source_sequence_length,\n",
        "                                                   target_sequence_length,\n",
        "                                                   max_target_sequence_length,\n",
        "                                                   len(source_vocab_to_int),\n",
        "                                                   len(target_vocab_to_int),\n",
        "                                                   encoding_embedding_size,\n",
        "                                                   decoding_embedding_size,\n",
        "                                                   rnn_size,\n",
        "                                                   num_layers,\n",
        "                                                   target_vocab_to_int)\n",
        "\n",
        "\n",
        "    training_logits = tf.identity(train_logits.rnn_output, name='logits')\n",
        "    inference_logits = tf.identity(inference_logits.sample_id, name='predictions')\n",
        "\n",
        "    masks = tf.sequence_mask(target_sequence_length, max_target_sequence_length, dtype=tf.float32, name='masks')\n",
        "\n",
        "    with tf.name_scope(\"optimization\"):\n",
        "        # Loss function\n",
        "        cost = tf.contrib.seq2seq.sequence_loss(\n",
        "            training_logits,\n",
        "            targets,\n",
        "            masks)\n",
        "\n",
        "        # Optimizer\n",
        "        optimizer = tf.train.AdamOptimizer(lr)\n",
        "\n",
        "        # Gradient Clipping\n",
        "        gradients = optimizer.compute_gradients(cost)\n",
        "        capped_gradients = [(tf.clip_by_value(grad, -1., 1.), var) for grad, var in gradients if grad is not None]\n",
        "        train_op = optimizer.apply_gradients(capped_gradients)\n"
      ],
      "execution_count": 0,
      "outputs": []
    },
    {
      "cell_type": "markdown",
      "metadata": {
        "id": "At3c0GK8DAa4",
        "colab_type": "text"
      },
      "source": [
        "Batch and pad the source and target sequences"
      ]
    },
    {
      "cell_type": "code",
      "metadata": {
        "id": "BFNfk6myDAa5",
        "colab_type": "code",
        "colab": {}
      },
      "source": [
        "\"\"\"\n",
        "DON'T MODIFY ANYTHING IN THIS CELL\n",
        "\"\"\"\n",
        "def pad_sentence_batch(sentence_batch, pad_int):\n",
        "    \"\"\"Pad sentences with <PAD> so that each sentence of a batch has the same length\"\"\"\n",
        "    max_sentence = max([len(sentence) for sentence in sentence_batch])\n",
        "    return [sentence + [pad_int] * (max_sentence - len(sentence)) for sentence in sentence_batch]\n",
        "\n",
        "\n",
        "def get_batches(sources, targets, batch_size, source_pad_int, target_pad_int):\n",
        "    \"\"\"Batch targets, sources, and the lengths of their sentences together\"\"\"\n",
        "    for batch_i in range(0, len(sources)//batch_size):\n",
        "        start_i = batch_i * batch_size\n",
        "\n",
        "        # Slice the right amount for the batch\n",
        "        sources_batch = sources[start_i:start_i + batch_size]\n",
        "        targets_batch = targets[start_i:start_i + batch_size]\n",
        "\n",
        "        # Pad\n",
        "        pad_sources_batch = np.array(pad_sentence_batch(sources_batch, source_pad_int))\n",
        "        pad_targets_batch = np.array(pad_sentence_batch(targets_batch, target_pad_int))\n",
        "\n",
        "        # Need the lengths for the _lengths parameters\n",
        "        pad_targets_lengths = []\n",
        "        for target in pad_targets_batch:\n",
        "            pad_targets_lengths.append(len(target))\n",
        "\n",
        "        pad_source_lengths = []\n",
        "        for source in pad_sources_batch:\n",
        "            pad_source_lengths.append(len(source))\n",
        "\n",
        "        yield pad_sources_batch, pad_targets_batch, pad_source_lengths, pad_targets_lengths\n"
      ],
      "execution_count": 0,
      "outputs": []
    },
    {
      "cell_type": "markdown",
      "metadata": {
        "id": "sMuXYrKaDAa6",
        "colab_type": "text"
      },
      "source": [
        "### Train\n",
        "Train the neural network on the preprocessed data. If you have a hard time getting a good loss, check the forms to see if anyone is having the same problem."
      ]
    },
    {
      "cell_type": "code",
      "metadata": {
        "scrolled": true,
        "id": "26MFXewZDAa7",
        "colab_type": "code",
        "colab": {
          "base_uri": "https://localhost:8080/",
          "height": 1000
        },
        "outputId": "917e665f-5bfd-446a-8158-174508332d14"
      },
      "source": [
        "\"\"\"\n",
        "DON'T MODIFY ANYTHING IN THIS CELL\n",
        "\"\"\"\n",
        "def get_accuracy(target, logits):\n",
        "    \"\"\"\n",
        "    Calculate accuracy\n",
        "    \"\"\"\n",
        "    max_seq = max(target.shape[1], logits.shape[1])\n",
        "    if max_seq - target.shape[1]:\n",
        "        target = np.pad(\n",
        "            target,\n",
        "            [(0,0),(0,max_seq - target.shape[1])],\n",
        "            'constant')\n",
        "    if max_seq - logits.shape[1]:\n",
        "        logits = np.pad(\n",
        "            logits,\n",
        "            [(0,0),(0,max_seq - logits.shape[1])],\n",
        "            'constant')\n",
        "\n",
        "    return np.mean(np.equal(target, logits))\n",
        "\n",
        "# Split data to training and validation sets\n",
        "train_source = source_int_text[batch_size:]\n",
        "train_target = target_int_text[batch_size:]\n",
        "valid_source = source_int_text[:batch_size]\n",
        "valid_target = target_int_text[:batch_size]\n",
        "(valid_sources_batch, valid_targets_batch, valid_sources_lengths, valid_targets_lengths ) = next(get_batches(valid_source,\n",
        "                                                                                                             valid_target,\n",
        "                                                                                                             batch_size,\n",
        "                                                                                                             source_vocab_to_int['<PAD>'],\n",
        "                                                                                                             target_vocab_to_int['<PAD>']))                                                                                                  \n",
        "with tf.Session(graph=train_graph) as sess:\n",
        "    sess.run(tf.global_variables_initializer())\n",
        "\n",
        "    for epoch_i in range(epochs):\n",
        "        for batch_i, (source_batch, target_batch, sources_lengths, targets_lengths) in enumerate(\n",
        "                get_batches(train_source, train_target, batch_size,\n",
        "                            source_vocab_to_int['<PAD>'],\n",
        "                            target_vocab_to_int['<PAD>'])):\n",
        "\n",
        "            _, loss = sess.run(\n",
        "                [train_op, cost],\n",
        "                {input_data: source_batch,\n",
        "                 targets: target_batch,\n",
        "                 lr: learning_rate,\n",
        "                 target_sequence_length: targets_lengths,\n",
        "                 source_sequence_length: sources_lengths,\n",
        "                 keep_prob: keep_probability})\n",
        "\n",
        "\n",
        "            if batch_i % display_step == 0 and batch_i > 0:\n",
        "\n",
        "\n",
        "                batch_train_logits = sess.run(\n",
        "                    inference_logits,\n",
        "                    {input_data: source_batch,\n",
        "                     source_sequence_length: sources_lengths,\n",
        "                     target_sequence_length: targets_lengths,\n",
        "                     keep_prob: 1.0})\n",
        "\n",
        "\n",
        "                batch_valid_logits = sess.run(\n",
        "                    inference_logits,\n",
        "                    {input_data: valid_sources_batch,\n",
        "                     source_sequence_length: valid_sources_lengths,\n",
        "                     target_sequence_length: valid_targets_lengths,\n",
        "                     keep_prob: 1.0})\n",
        "\n",
        "                train_acc = get_accuracy(target_batch, batch_train_logits)\n",
        "\n",
        "                valid_acc = get_accuracy(valid_targets_batch, batch_valid_logits)\n",
        "\n",
        "                print('Epoch {:>3} Batch {:>4}/{} - Train Accuracy: {:>6.4f}, Validation Accuracy: {:>6.4f}, Loss: {:>6.4f}'\n",
        "                      .format(epoch_i, batch_i, len(source_int_text) // batch_size, train_acc, valid_acc, loss))\n",
        "\n",
        "    # Save Model\n",
        "    saver = tf.train.Saver()\n",
        "    saver.save(sess, save_path)\n",
        "    print('Model Trained and Saved')"
      ],
      "execution_count": 19,
      "outputs": [
        {
          "output_type": "stream",
          "text": [
            "Epoch   0 Batch  100/1077 - Train Accuracy: 0.4285, Validation Accuracy: 0.4744, Loss: 1.5243\n",
            "Epoch   0 Batch  200/1077 - Train Accuracy: 0.5059, Validation Accuracy: 0.5724, Loss: 0.9326\n",
            "Epoch   0 Batch  300/1077 - Train Accuracy: 0.5859, Validation Accuracy: 0.6367, Loss: 0.6950\n",
            "Epoch   0 Batch  400/1077 - Train Accuracy: 0.6176, Validation Accuracy: 0.6296, Loss: 0.5719\n",
            "Epoch   0 Batch  500/1077 - Train Accuracy: 0.6504, Validation Accuracy: 0.6818, Loss: 0.4782\n",
            "Epoch   0 Batch  600/1077 - Train Accuracy: 0.7615, Validation Accuracy: 0.7564, Loss: 0.3555\n",
            "Epoch   0 Batch  700/1077 - Train Accuracy: 0.8102, Validation Accuracy: 0.7681, Loss: 0.2758\n",
            "Epoch   0 Batch  800/1077 - Train Accuracy: 0.8441, Validation Accuracy: 0.8093, Loss: 0.2354\n",
            "Epoch   0 Batch  900/1077 - Train Accuracy: 0.8863, Validation Accuracy: 0.8487, Loss: 0.1717\n",
            "Epoch   0 Batch 1000/1077 - Train Accuracy: 0.8977, Validation Accuracy: 0.8654, Loss: 0.1199\n",
            "Epoch   1 Batch  100/1077 - Train Accuracy: 0.9023, Validation Accuracy: 0.9183, Loss: 0.0832\n",
            "Epoch   1 Batch  200/1077 - Train Accuracy: 0.9043, Validation Accuracy: 0.8952, Loss: 0.0811\n",
            "Epoch   1 Batch  300/1077 - Train Accuracy: 0.9502, Validation Accuracy: 0.9215, Loss: 0.0595\n",
            "Epoch   1 Batch  400/1077 - Train Accuracy: 0.9348, Validation Accuracy: 0.9151, Loss: 0.0633\n",
            "Epoch   1 Batch  500/1077 - Train Accuracy: 0.9422, Validation Accuracy: 0.9293, Loss: 0.0411\n",
            "Epoch   1 Batch  600/1077 - Train Accuracy: 0.9475, Validation Accuracy: 0.9432, Loss: 0.0576\n",
            "Epoch   1 Batch  700/1077 - Train Accuracy: 0.9578, Validation Accuracy: 0.9428, Loss: 0.0398\n",
            "Epoch   1 Batch  800/1077 - Train Accuracy: 0.9484, Validation Accuracy: 0.9492, Loss: 0.0456\n",
            "Epoch   1 Batch  900/1077 - Train Accuracy: 0.9602, Validation Accuracy: 0.9386, Loss: 0.0412\n",
            "Epoch   1 Batch 1000/1077 - Train Accuracy: 0.9550, Validation Accuracy: 0.9528, Loss: 0.0346\n",
            "Epoch   2 Batch  100/1077 - Train Accuracy: 0.9691, Validation Accuracy: 0.9524, Loss: 0.0288\n",
            "Epoch   2 Batch  200/1077 - Train Accuracy: 0.9574, Validation Accuracy: 0.9670, Loss: 0.0302\n",
            "Epoch   2 Batch  300/1077 - Train Accuracy: 0.9576, Validation Accuracy: 0.9595, Loss: 0.0263\n",
            "Epoch   2 Batch  400/1077 - Train Accuracy: 0.9641, Validation Accuracy: 0.9613, Loss: 0.0322\n",
            "Epoch   2 Batch  500/1077 - Train Accuracy: 0.9750, Validation Accuracy: 0.9624, Loss: 0.0220\n",
            "Epoch   2 Batch  600/1077 - Train Accuracy: 0.9624, Validation Accuracy: 0.9549, Loss: 0.0322\n",
            "Epoch   2 Batch  700/1077 - Train Accuracy: 0.9789, Validation Accuracy: 0.9602, Loss: 0.0167\n",
            "Epoch   2 Batch  800/1077 - Train Accuracy: 0.9543, Validation Accuracy: 0.9734, Loss: 0.0267\n",
            "Epoch   2 Batch  900/1077 - Train Accuracy: 0.9730, Validation Accuracy: 0.9503, Loss: 0.0278\n",
            "Epoch   2 Batch 1000/1077 - Train Accuracy: 0.9688, Validation Accuracy: 0.9585, Loss: 0.0233\n",
            "Epoch   3 Batch  100/1077 - Train Accuracy: 0.9891, Validation Accuracy: 0.9787, Loss: 0.0188\n",
            "Epoch   3 Batch  200/1077 - Train Accuracy: 0.9711, Validation Accuracy: 0.9602, Loss: 0.0188\n",
            "Epoch   3 Batch  300/1077 - Train Accuracy: 0.9807, Validation Accuracy: 0.9680, Loss: 0.0138\n",
            "Epoch   3 Batch  400/1077 - Train Accuracy: 0.9703, Validation Accuracy: 0.9670, Loss: 0.0233\n",
            "Epoch   3 Batch  500/1077 - Train Accuracy: 0.9738, Validation Accuracy: 0.9716, Loss: 0.0136\n",
            "Epoch   3 Batch  600/1077 - Train Accuracy: 0.9725, Validation Accuracy: 0.9744, Loss: 0.0240\n",
            "Epoch   3 Batch  700/1077 - Train Accuracy: 0.9910, Validation Accuracy: 0.9712, Loss: 0.0121\n",
            "Epoch   3 Batch  800/1077 - Train Accuracy: 0.9812, Validation Accuracy: 0.9751, Loss: 0.0154\n",
            "Epoch   3 Batch  900/1077 - Train Accuracy: 0.9805, Validation Accuracy: 0.9805, Loss: 0.0185\n",
            "Epoch   3 Batch 1000/1077 - Train Accuracy: 0.9833, Validation Accuracy: 0.9787, Loss: 0.0157\n",
            "Epoch   4 Batch  100/1077 - Train Accuracy: 0.9895, Validation Accuracy: 0.9755, Loss: 0.0139\n",
            "Epoch   4 Batch  200/1077 - Train Accuracy: 0.9816, Validation Accuracy: 0.9727, Loss: 0.0142\n",
            "Epoch   4 Batch  300/1077 - Train Accuracy: 0.9844, Validation Accuracy: 0.9780, Loss: 0.0121\n",
            "Epoch   4 Batch  400/1077 - Train Accuracy: 0.9738, Validation Accuracy: 0.9595, Loss: 0.0149\n",
            "Epoch   4 Batch  500/1077 - Train Accuracy: 0.9852, Validation Accuracy: 0.9730, Loss: 0.0111\n",
            "Epoch   4 Batch  600/1077 - Train Accuracy: 0.9784, Validation Accuracy: 0.9744, Loss: 0.0175\n",
            "Epoch   4 Batch  700/1077 - Train Accuracy: 0.9914, Validation Accuracy: 0.9798, Loss: 0.0125\n",
            "Epoch   4 Batch  800/1077 - Train Accuracy: 0.9836, Validation Accuracy: 0.9652, Loss: 0.0123\n",
            "Epoch   4 Batch  900/1077 - Train Accuracy: 0.9832, Validation Accuracy: 0.9759, Loss: 0.0139\n",
            "Epoch   4 Batch 1000/1077 - Train Accuracy: 0.9818, Validation Accuracy: 0.9798, Loss: 0.0119\n",
            "Epoch   5 Batch  100/1077 - Train Accuracy: 0.9898, Validation Accuracy: 0.9709, Loss: 0.0091\n",
            "Epoch   5 Batch  200/1077 - Train Accuracy: 0.9871, Validation Accuracy: 0.9705, Loss: 0.0133\n",
            "Epoch   5 Batch  300/1077 - Train Accuracy: 0.9901, Validation Accuracy: 0.9716, Loss: 0.0098\n",
            "Epoch   5 Batch  400/1077 - Train Accuracy: 0.9883, Validation Accuracy: 0.9616, Loss: 0.0101\n",
            "Epoch   5 Batch  500/1077 - Train Accuracy: 0.9801, Validation Accuracy: 0.9819, Loss: 0.0098\n",
            "Epoch   5 Batch  600/1077 - Train Accuracy: 0.9866, Validation Accuracy: 0.9794, Loss: 0.0188\n",
            "Epoch   5 Batch  700/1077 - Train Accuracy: 0.9992, Validation Accuracy: 0.9755, Loss: 0.0089\n",
            "Epoch   5 Batch  800/1077 - Train Accuracy: 0.9852, Validation Accuracy: 0.9716, Loss: 0.0124\n",
            "Epoch   5 Batch  900/1077 - Train Accuracy: 0.9832, Validation Accuracy: 0.9659, Loss: 0.0129\n",
            "Epoch   5 Batch 1000/1077 - Train Accuracy: 0.9922, Validation Accuracy: 0.9851, Loss: 0.0098\n",
            "Epoch   6 Batch  100/1077 - Train Accuracy: 0.9965, Validation Accuracy: 0.9780, Loss: 0.0078\n",
            "Epoch   6 Batch  200/1077 - Train Accuracy: 0.9859, Validation Accuracy: 0.9776, Loss: 0.0110\n",
            "Epoch   6 Batch  300/1077 - Train Accuracy: 0.9914, Validation Accuracy: 0.9702, Loss: 0.0073\n",
            "Epoch   6 Batch  400/1077 - Train Accuracy: 0.9906, Validation Accuracy: 0.9641, Loss: 0.0089\n",
            "Epoch   6 Batch  500/1077 - Train Accuracy: 0.9777, Validation Accuracy: 0.9677, Loss: 0.0084\n",
            "Epoch   6 Batch  600/1077 - Train Accuracy: 0.9851, Validation Accuracy: 0.9705, Loss: 0.0086\n",
            "Epoch   6 Batch  700/1077 - Train Accuracy: 0.9930, Validation Accuracy: 0.9801, Loss: 0.0085\n",
            "Epoch   6 Batch  800/1077 - Train Accuracy: 0.9988, Validation Accuracy: 0.9734, Loss: 0.0102\n",
            "Epoch   6 Batch  900/1077 - Train Accuracy: 0.9812, Validation Accuracy: 0.9748, Loss: 0.0112\n",
            "Epoch   6 Batch 1000/1077 - Train Accuracy: 0.9970, Validation Accuracy: 0.9783, Loss: 0.0072\n",
            "Epoch   7 Batch  100/1077 - Train Accuracy: 0.9938, Validation Accuracy: 0.9794, Loss: 0.0072\n",
            "Epoch   7 Batch  200/1077 - Train Accuracy: 0.9887, Validation Accuracy: 0.9819, Loss: 0.0100\n",
            "Epoch   7 Batch  300/1077 - Train Accuracy: 0.9856, Validation Accuracy: 0.9730, Loss: 0.0090\n",
            "Epoch   7 Batch  400/1077 - Train Accuracy: 0.9938, Validation Accuracy: 0.9727, Loss: 0.0095\n",
            "Epoch   7 Batch  500/1077 - Train Accuracy: 0.9922, Validation Accuracy: 0.9755, Loss: 0.0079\n",
            "Epoch   7 Batch  600/1077 - Train Accuracy: 0.9870, Validation Accuracy: 0.9798, Loss: 0.0096\n",
            "Epoch   7 Batch  700/1077 - Train Accuracy: 0.9879, Validation Accuracy: 0.9652, Loss: 0.0073\n",
            "Epoch   7 Batch  800/1077 - Train Accuracy: 0.9926, Validation Accuracy: 0.9822, Loss: 0.0073\n",
            "Epoch   7 Batch  900/1077 - Train Accuracy: 0.9891, Validation Accuracy: 0.9748, Loss: 0.0100\n",
            "Epoch   7 Batch 1000/1077 - Train Accuracy: 0.9993, Validation Accuracy: 0.9790, Loss: 0.0060\n",
            "Epoch   8 Batch  100/1077 - Train Accuracy: 0.9969, Validation Accuracy: 0.9847, Loss: 0.0040\n",
            "Epoch   8 Batch  200/1077 - Train Accuracy: 0.9918, Validation Accuracy: 0.9872, Loss: 0.0072\n",
            "Epoch   8 Batch  300/1077 - Train Accuracy: 0.9885, Validation Accuracy: 0.9734, Loss: 0.0051\n",
            "Epoch   8 Batch  400/1077 - Train Accuracy: 0.9934, Validation Accuracy: 0.9808, Loss: 0.0053\n",
            "Epoch   8 Batch  500/1077 - Train Accuracy: 0.9922, Validation Accuracy: 0.9751, Loss: 0.0056\n",
            "Epoch   8 Batch  600/1077 - Train Accuracy: 0.9892, Validation Accuracy: 0.9847, Loss: 0.0058\n",
            "Epoch   8 Batch  700/1077 - Train Accuracy: 0.9938, Validation Accuracy: 0.9744, Loss: 0.0052\n",
            "Epoch   8 Batch  800/1077 - Train Accuracy: 0.9828, Validation Accuracy: 0.9723, Loss: 0.0078\n",
            "Epoch   8 Batch  900/1077 - Train Accuracy: 0.9887, Validation Accuracy: 0.9780, Loss: 0.0084\n",
            "Epoch   8 Batch 1000/1077 - Train Accuracy: 0.9978, Validation Accuracy: 0.9805, Loss: 0.0053\n",
            "Epoch   9 Batch  100/1077 - Train Accuracy: 0.9941, Validation Accuracy: 0.9759, Loss: 0.0053\n",
            "Epoch   9 Batch  200/1077 - Train Accuracy: 0.9930, Validation Accuracy: 0.9851, Loss: 0.0053\n",
            "Epoch   9 Batch  300/1077 - Train Accuracy: 1.0000, Validation Accuracy: 0.9705, Loss: 0.0033\n",
            "Epoch   9 Batch  400/1077 - Train Accuracy: 0.9965, Validation Accuracy: 0.9830, Loss: 0.0046\n",
            "Epoch   9 Batch  500/1077 - Train Accuracy: 0.9973, Validation Accuracy: 0.9716, Loss: 0.0046\n",
            "Epoch   9 Batch  600/1077 - Train Accuracy: 0.9981, Validation Accuracy: 0.9847, Loss: 0.0065\n",
            "Epoch   9 Batch  700/1077 - Train Accuracy: 0.9934, Validation Accuracy: 0.9751, Loss: 0.0077\n",
            "Epoch   9 Batch  800/1077 - Train Accuracy: 0.9914, Validation Accuracy: 0.9801, Loss: 0.0049\n",
            "Epoch   9 Batch  900/1077 - Train Accuracy: 0.9863, Validation Accuracy: 0.9730, Loss: 0.0092\n",
            "Epoch   9 Batch 1000/1077 - Train Accuracy: 1.0000, Validation Accuracy: 0.9883, Loss: 0.0030\n",
            "Model Trained and Saved\n"
          ],
          "name": "stdout"
        }
      ]
    },
    {
      "cell_type": "markdown",
      "metadata": {
        "id": "DbSF3S0WDAa-",
        "colab_type": "text"
      },
      "source": [
        "### Save Parameters\n",
        "Save the `batch_size` and `save_path` parameters for inference."
      ]
    },
    {
      "cell_type": "code",
      "metadata": {
        "id": "p00D-9wDDAa_",
        "colab_type": "code",
        "colab": {}
      },
      "source": [
        "\"\"\"\n",
        "DON'T MODIFY ANYTHING IN THIS CELL\n",
        "\"\"\"\n",
        "# Save parameters for checkpoint\n",
        "helper.save_params(save_path)"
      ],
      "execution_count": 0,
      "outputs": []
    },
    {
      "cell_type": "markdown",
      "metadata": {
        "id": "2feRzVmaDAbA",
        "colab_type": "text"
      },
      "source": [
        "# Checkpoint"
      ]
    },
    {
      "cell_type": "code",
      "metadata": {
        "id": "3Rxjfp2QDAbE",
        "colab_type": "code",
        "colab": {}
      },
      "source": [
        "\"\"\"\n",
        "DON'T MODIFY ANYTHING IN THIS CELL\n",
        "\"\"\"\n",
        "import tensorflow as tf\n",
        "import numpy as np\n",
        "import helper\n",
        "import problem_unittests as tests\n",
        "\n",
        "_, (source_vocab_to_int, target_vocab_to_int), (source_int_to_vocab, target_int_to_vocab) = helper.load_preprocess()\n",
        "load_path = helper.load_params()"
      ],
      "execution_count": 0,
      "outputs": []
    },
    {
      "cell_type": "markdown",
      "metadata": {
        "id": "mDi0LukvDAbF",
        "colab_type": "text"
      },
      "source": [
        "## Sentence to Sequence\n",
        "To feed a sentence into the model for translation, you first need to preprocess it.  Implement the function `sentence_to_seq()` to preprocess new sentences.\n",
        "\n",
        "- Convert the sentence to lowercase\n",
        "- Convert words into ids using `vocab_to_int`\n",
        " - Convert words not in the vocabulary, to the `<UNK>` word id."
      ]
    },
    {
      "cell_type": "code",
      "metadata": {
        "id": "XnSnzpmbDAbF",
        "colab_type": "code",
        "colab": {
          "base_uri": "https://localhost:8080/",
          "height": 34
        },
        "outputId": "2ccc0301-6310-41fd-f58e-64f27e040452"
      },
      "source": [
        "def sentence_to_seq(sentence, vocab_to_int):\n",
        "    \"\"\"\n",
        "    Convert a sentence to a sequence of ids\n",
        "    :param sentence: String\n",
        "    :param vocab_to_int: Dictionary to go from the words to an id\n",
        "    :return: List of word ids\n",
        "    \"\"\"\n",
        "    # TODO: Implement Function\n",
        "    return [vocab_to_int.get(word, vocab_to_int['<UNK>']) for word in sentence.lower().split()]\n",
        "\n",
        "\n",
        "\"\"\"\n",
        "DON'T MODIFY ANYTHING IN THIS CELL THAT IS BELOW THIS LINE\n",
        "\"\"\"\n",
        "tests.test_sentence_to_seq(sentence_to_seq)"
      ],
      "execution_count": 22,
      "outputs": [
        {
          "output_type": "stream",
          "text": [
            "Tests Passed\n"
          ],
          "name": "stdout"
        }
      ]
    },
    {
      "cell_type": "markdown",
      "metadata": {
        "id": "1iLV0enCDAbI",
        "colab_type": "text"
      },
      "source": [
        "## Translate\n",
        "This will translate `translate_sentence` from English to French."
      ]
    },
    {
      "cell_type": "code",
      "metadata": {
        "id": "UCMmWA1BDAbI",
        "colab_type": "code",
        "colab": {
          "base_uri": "https://localhost:8080/",
          "height": 207
        },
        "outputId": "175d8bab-729e-423a-a0a9-0c64daed117b"
      },
      "source": [
        "translate_sentence = 'he saw a old yellow truck .'\n",
        "\n",
        "\n",
        "\"\"\"\n",
        "DON'T MODIFY ANYTHING IN THIS CELL\n",
        "\"\"\"\n",
        "translate_sentence = sentence_to_seq(translate_sentence, source_vocab_to_int)\n",
        "\n",
        "loaded_graph = tf.Graph()\n",
        "with tf.Session(graph=loaded_graph) as sess:\n",
        "    # Load saved model\n",
        "    loader = tf.train.import_meta_graph(load_path + '.meta')\n",
        "    loader.restore(sess, load_path)\n",
        "\n",
        "    input_data = loaded_graph.get_tensor_by_name('input:0')\n",
        "    logits = loaded_graph.get_tensor_by_name('predictions:0')\n",
        "    target_sequence_length = loaded_graph.get_tensor_by_name('target_sequence_length:0')\n",
        "    source_sequence_length = loaded_graph.get_tensor_by_name('source_sequence_length:0')\n",
        "    keep_prob = loaded_graph.get_tensor_by_name('keep_prob:0')\n",
        "\n",
        "    translate_logits = sess.run(logits, {input_data: [translate_sentence]*batch_size,\n",
        "                                         target_sequence_length: [len(translate_sentence)*2]*batch_size,\n",
        "                                         source_sequence_length: [len(translate_sentence)]*batch_size,\n",
        "                                         keep_prob: 1.0})[0]\n",
        "\n",
        "print('Input')\n",
        "print('  Word Ids:      {}'.format([i for i in translate_sentence]))\n",
        "print('  English Words: {}'.format([source_int_to_vocab[i] for i in translate_sentence]))\n",
        "\n",
        "print('\\nPrediction')\n",
        "print('  Word Ids:      {}'.format([i for i in translate_logits]))\n",
        "print('  French Words: {}'.format(\" \".join([target_int_to_vocab[i] for i in translate_logits])))\n"
      ],
      "execution_count": 23,
      "outputs": [
        {
          "output_type": "stream",
          "text": [
            "W0729 09:44:12.569484 140409289840512 deprecation.py:323] From /usr/local/lib/python3.6/dist-packages/tensorflow/python/training/saver.py:1276: checkpoint_exists (from tensorflow.python.training.checkpoint_management) is deprecated and will be removed in a future version.\n",
            "Instructions for updating:\n",
            "Use standard file APIs to check for files with this prefix.\n"
          ],
          "name": "stderr"
        },
        {
          "output_type": "stream",
          "text": [
            "Input\n",
            "  Word Ids:      [184, 81, 138, 168, 83, 56, 169]\n",
            "  English Words: ['he', 'saw', 'a', 'old', 'yellow', 'truck', '.']\n",
            "\n",
            "Prediction\n",
            "  Word Ids:      [202, 137, 109, 218, 302, 269, 64, 235, 1]\n",
            "  French Words: il a vu un vieux camion jaune . <EOS>\n"
          ],
          "name": "stdout"
        }
      ]
    },
    {
      "cell_type": "markdown",
      "metadata": {
        "id": "RLcfvPmtDAbK",
        "colab_type": "text"
      },
      "source": [
        "## Imperfect Translation\n",
        "You might notice that some sentences translate better than others.  Since the dataset you're using only has a vocabulary of 227 English words of the thousands that you use, you're only going to see good results using these words.  For this project, you don't need a perfect translation. However, if you want to create a better translation model, you'll need better data.\n",
        "\n",
        "You can train on the [WMT10 French-English corpus](http://www.statmt.org/wmt10/training-giga-fren.tar).  This dataset has more vocabulary and richer in topics discussed.  However, this will take you days to train, so make sure you've a GPU and the neural network is performing well on dataset we provided.  Just make sure you play with the WMT10 corpus after you've submitted this project.\n",
        "## Submitting This Project\n",
        "When submitting this project, make sure to run all the cells before saving the notebook. Save the notebook file as \"dlnd_language_translation.ipynb\" and save it as a HTML file under \"File\" -> \"Download as\". Include the \"helper.py\" and \"problem_unittests.py\" files in your submission."
      ]
    }
  ]
}